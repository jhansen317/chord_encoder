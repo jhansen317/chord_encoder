{
 "cells": [
  {
   "cell_type": "code",
   "execution_count": 2,
   "metadata": {},
   "outputs": [
    {
     "name": "stdout",
     "output_type": "stream",
     "text": [
      "Using cpu device\n"
     ]
    }
   ],
   "source": [
    "import music21\n",
    "import torch\n",
    "import plotly.graph_objects as go\n",
    "import json\n",
    "import numpy as np\n",
    "from utils import ChoraleChords, plot_embedding_space, plot_details, getTopKAsMultiHot, tensor2midi #, plot_interleaved\n",
    "from VAEModels import GaussianVAE\n",
    "import matplotlib.pyplot as plt\n",
    "import os\n",
    "from matplotlib.gridspec import GridSpec\n",
    "\n",
    "np.random.seed(1)\n",
    "device = \"cpu\" # \"cuda\" if torch.cuda.is_available() else \"mps\" if torch.backends.mps.is_available() else \"cpu\"\n",
    "print(f\"Using {device} device\")\n",
    "# 13k 430\n"
   ]
  },
  {
   "cell_type": "code",
   "execution_count": 3,
   "metadata": {},
   "outputs": [
    {
     "data": {
      "text/plain": [
       "torch.Size([6235, 128])"
      ]
     },
     "execution_count": 3,
     "metadata": {},
     "output_type": "execute_result"
    }
   ],
   "source": [
    "testset = ChoraleChords(augmented=True)\n",
    "testset.encoding = 'multi_hot'\n",
    "testset.original_mh.shape"
   ]
  },
  {
   "cell_type": "code",
   "execution_count": 20,
   "metadata": {},
   "outputs": [
    {
     "data": {
      "text/plain": [
       "torch.Size([223535, 128])"
      ]
     },
     "execution_count": 20,
     "metadata": {},
     "output_type": "execute_result"
    }
   ],
   "source": [
    "testset[:].shape"
   ]
  },
  {
   "cell_type": "code",
   "execution_count": 110,
   "metadata": {},
   "outputs": [
    {
     "name": "stdout",
     "output_type": "stream",
     "text": [
      "tensor([[4, 5, 6, 0, 0, 0, 0, 0, 0, 0],\n",
      "        [4, 5, 6, 7, 8, 0, 0, 0, 0, 0]])\n",
      "tensor([[0, 0],\n",
      "        [0, 1],\n",
      "        [0, 2],\n",
      "        [1, 0],\n",
      "        [1, 1],\n",
      "        [1, 2],\n",
      "        [1, 3],\n",
      "        [1, 4]])\n",
      "tensor([[1., 0., 0., 0., 1., 1., 1., 0., 0., 0., 0., 0., 0., 0., 0., 0., 0., 0.,\n",
      "         0., 0., 0., 0., 0., 0., 0., 0., 0., 0., 0., 0., 0., 0., 0., 0., 0., 0.,\n",
      "         0., 0., 0., 0., 0., 0., 0., 0., 0., 0., 0., 0., 0., 0., 0., 0., 0., 0.,\n",
      "         0., 0., 0., 0., 0., 0., 0., 0., 0., 0., 0., 0., 0., 0., 0., 0., 0., 0.,\n",
      "         0., 0., 0., 0., 0., 0., 0., 0., 0., 0., 0., 0., 0., 0., 0., 0., 0., 0.,\n",
      "         0., 0., 0., 0., 0., 0., 0., 0., 0., 0., 0., 0., 0., 0., 0., 0., 0., 0.,\n",
      "         0., 0., 0., 0., 0., 0., 0., 0., 0., 0., 0., 0., 0., 0., 0., 0., 0., 0.,\n",
      "         0., 0.],\n",
      "        [1., 0., 0., 0., 1., 1., 1., 1., 1., 0., 0., 0., 0., 0., 0., 0., 0., 0.,\n",
      "         0., 0., 0., 0., 0., 0., 0., 0., 0., 0., 0., 0., 0., 0., 0., 0., 0., 0.,\n",
      "         0., 0., 0., 0., 0., 0., 0., 0., 0., 0., 0., 0., 0., 0., 0., 0., 0., 0.,\n",
      "         0., 0., 0., 0., 0., 0., 0., 0., 0., 0., 0., 0., 0., 0., 0., 0., 0., 0.,\n",
      "         0., 0., 0., 0., 0., 0., 0., 0., 0., 0., 0., 0., 0., 0., 0., 0., 0., 0.,\n",
      "         0., 0., 0., 0., 0., 0., 0., 0., 0., 0., 0., 0., 0., 0., 0., 0., 0., 0.,\n",
      "         0., 0., 0., 0., 0., 0., 0., 0., 0., 0., 0., 0., 0., 0., 0., 0., 0., 0.,\n",
      "         0., 0.]])\n"
     ]
    }
   ],
   "source": [
    "t = torch.zeros([2, 10])\n",
    "mh = torch.zeros([2, 128])\n",
    "mh1s = torch.ones([2,128])\n",
    "nt = torch.nested.nested_tensor([[1,2,3], [1,2,3,4,5]], dtype=torch.int64, requires_grad=False, pin_memory=True) + 3.\n",
    "ntp = torch.nested.to_padded_tensor(nt, 0.0, output_size=[2,10]).to(torch.int64)\n",
    "print(ntp)\n",
    "print(torch.nonzero(ntp))\n",
    "print(mh.scatter_(1, ntp, mh1s))\n",
    "\n"
   ]
  },
  {
   "cell_type": "code",
   "execution_count": 10,
   "metadata": {},
   "outputs": [],
   "source": [
    "def plot_reconstructed(model, dim, dim2, r0=(-1, 1), n=25):\n",
    "    norm = torch.distributions.Normal(0, 1)\n",
    "    columns = torch.tensor([])\n",
    "    coords = torch.zeros([n, 10])\n",
    "    coords[:, dim] = norm.sample([n]) # ).values #np.linspace(*r0, n\n",
    "    #for i, y in enumerate(np.linspace(*r0, n)):\n",
    "    #    coords[i,dim] = y\n",
    "    outs = model.decoder(coords).unique(dim=1)\n",
    "\n",
    "    x_hat = getTopKAsMultiHot(outs, 4).unique(dim=0)# + outs\n",
    "    print(x_hat)\n",
    "    columns = torch.squeeze(x_hat) # torch.cat([columns, torch.unsqueeze(x_hat, dim=0)], dim=0)\n",
    "    #plt.imshow(columns, extent=[*r0, *r1])\n",
    "    #columns = torch.squeeze(columns)\n",
    "    plt.imshow(columns.T.detach().numpy(), cmap='gray', aspect='auto', interpolation='nearest')\n",
    "    return columns"
   ]
  },
  {
   "cell_type": "code",
   "execution_count": 13,
   "metadata": {},
   "outputs": [
    {
     "name": "stdout",
     "output_type": "stream",
     "text": [
      "tensor([[0., 0., 0.,  ..., 1., 1., 1.],\n",
      "        [0., 0., 0.,  ..., 1., 1., 1.],\n",
      "        [0., 0., 0.,  ..., 1., 1., 1.],\n",
      "        ...,\n",
      "        [0., 0., 0.,  ..., 0., 0., 0.],\n",
      "        [0., 0., 0.,  ..., 0., 0., 0.],\n",
      "        [0., 0., 1.,  ..., 0., 0., 0.]])\n",
      "torch.Size([13, 128])\n",
      "[124, 125, 126, 127]\n",
      "[123, 125, 126, 127]\n",
      "[122, 125, 126, 127]\n",
      "[122, 124, 125, 127]\n",
      "[122, 123, 124, 125]\n",
      "[117, 125, 126, 127]\n",
      "[103, 125, 126, 127]\n",
      "[103, 117, 126, 127]\n",
      "[67, 103, 126, 127]\n",
      "[51, 115, 122, 124]\n",
      "[40, 51, 83, 122]\n",
      "[11, 40, 51, 122]\n",
      "[2, 11, 40, 51]\n"
     ]
    },
    {
     "data": {
      "image/png": "[encoded data removed]",
      "text/plain": [
       "<Figure size 640x480 with 1 Axes>"
      ]
     },
     "metadata": {
      "image/png": {
       "height": 417,
       "width": 552
      }
     },
     "output_type": "display_data"
    }
   ],
   "source": [
    "cols = plot_reconstructed(model, 3, 1, r0=(-10, 10), n=100)\n",
    "print(cols.shape)\n",
    "cols = cols\n",
    "for m in tensor2midi(cols).tolist():\n",
    "    play_midi_chord(m)"
   ]
  },
  {
   "cell_type": "code",
   "execution_count": 9,
   "metadata": {},
   "outputs": [
    {
     "name": "stdout",
     "output_type": "stream",
     "text": [
      "tensor([[ 4.0243e-01,  4.5029e-01, -1.0526e+00,  1.8841e-01,  4.8360e-02,\n",
      "          1.0767e+00,  2.0365e-01, -9.5233e-02,  2.6118e-01, -5.4355e-01],\n",
      "        [ 7.6914e-01,  7.6855e-01, -4.0674e-01, -3.5448e-01,  5.9769e-01,\n",
      "          1.4465e+00, -1.7480e-01,  8.8292e-02,  7.7925e-01,  4.6388e-01],\n",
      "        [ 8.2062e-01, -6.7253e-02, -7.7271e-01,  1.7944e-01,  1.0115e+00,\n",
      "          1.4946e+00, -3.5522e-01,  8.0625e-01, -4.3521e-01, -1.4003e-01],\n",
      "        [ 7.7397e-01,  7.4440e-01, -4.7674e-01, -3.5843e-01,  6.0139e-01,\n",
      "          1.4279e+00, -1.6656e-01,  7.2137e-02,  7.8938e-01,  4.5060e-01],\n",
      "        [ 3.8649e-01,  4.3179e-01, -1.1091e+00,  2.0535e-01,  6.0165e-02,\n",
      "          1.0859e+00,  2.2289e-01, -1.1482e-01,  2.6875e-01, -5.0481e-01],\n",
      "        [ 3.2321e-01,  6.2640e-01, -6.8000e-01, -2.6652e-01,  1.2001e-01,\n",
      "          1.6472e+00, -9.8121e-02,  4.9492e-01,  7.0963e-01,  4.5103e-01],\n",
      "        [ 3.8560e-01,  4.3610e-01, -1.0604e+00,  2.1958e-01,  6.1504e-02,\n",
      "          1.0872e+00,  2.0706e-01, -9.3760e-02,  2.9237e-01, -4.9266e-01],\n",
      "        [ 5.4531e-01,  7.0884e-02, -6.1815e-01,  6.1366e-01, -2.3215e-02,\n",
      "          1.4380e+00,  7.1586e-02,  4.6009e-01,  3.7215e-01, -3.4415e-01],\n",
      "        [ 1.2025e+00,  2.2394e-02, -3.5724e-01, -2.4066e-01,  3.6028e-01,\n",
      "          1.0733e+00, -4.0327e-01,  1.5822e-02,  1.1703e+00,  2.5078e-02],\n",
      "        [ 9.2403e-01, -3.9441e-01, -5.9860e-01, -4.0349e-01,  1.0891e+00,\n",
      "          8.1752e-01, -5.5979e-01,  2.1280e-02,  1.0296e+00,  1.2253e-01],\n",
      "        [ 3.3057e-01, -6.6133e-02, -1.0170e+00,  5.3475e-01,  7.5133e-01,\n",
      "          1.2169e+00, -2.1633e-01,  7.6342e-01,  5.9671e-01, -3.7714e-01],\n",
      "        [ 6.8538e-01, -6.1294e-01, -5.0773e-03, -2.8801e-01,  7.9112e-01,\n",
      "          1.2331e+00, -2.1593e-01,  1.1518e+00, -2.4016e-01, -6.5485e-01],\n",
      "        [ 8.4040e-01, -1.0666e-01, -7.3054e-01,  2.1221e-01,  9.8737e-01,\n",
      "          1.5249e+00, -3.5959e-01,  8.0536e-01, -4.6846e-01, -1.6201e-01],\n",
      "        [ 6.6633e-01, -4.2718e-01, -6.5859e-01, -9.7913e-01,  9.3642e-01,\n",
      "          6.5565e-01, -2.9953e-01,  1.0601e-01,  6.1161e-01,  4.1982e-01],\n",
      "        [ 2.9359e-01,  4.3777e-02,  5.9366e-01, -2.0546e-02,  7.0287e-01,\n",
      "          1.2513e+00, -4.1209e-01,  1.2319e+00,  3.7202e-01, -4.4021e-01],\n",
      "        [ 5.8489e-02,  3.8423e-02,  9.2028e-01, -3.1836e-01,  1.9368e-01,\n",
      "          1.1875e+00, -2.6155e-01,  9.2062e-01,  2.4365e-01,  3.6021e-01],\n",
      "        [ 6.3932e-02,  3.1668e-01, -7.8303e-01,  3.2691e-01,  1.3368e+00,\n",
      "          1.1481e+00,  9.8522e-02,  5.8939e-01, -4.7755e-01, -3.7644e-01],\n",
      "        [ 8.0699e-01, -7.0906e-02, -7.4317e-01,  2.1597e-01,  1.0120e+00,\n",
      "          1.5609e+00, -3.6304e-01,  8.0177e-01, -4.6154e-01, -1.3406e-01],\n",
      "        [ 4.3549e-01,  5.8914e-01, -1.5215e-01, -4.8693e-01,  9.4985e-01,\n",
      "          1.6264e+00, -6.1463e-02,  9.8843e-02,  6.9472e-02,  5.0170e-01],\n",
      "        [ 8.9346e-01, -3.5400e-02, -2.4534e-01, -9.5025e-02,  8.6316e-01,\n",
      "          1.5876e+00, -2.1689e-01, -2.7651e-01, -4.7718e-01,  6.0211e-01],\n",
      "        [ 7.6297e-01,  7.7972e-01, -4.4815e-01, -3.7556e-01,  5.9965e-01,\n",
      "          1.4530e+00, -1.5877e-01,  9.7932e-02,  7.6682e-01,  4.6710e-01],\n",
      "        [ 7.3127e-01,  7.8652e-01, -1.0094e+00,  1.7949e-01,  3.3398e-01,\n",
      "          1.2546e+00, -3.8512e-01, -5.9988e-01,  4.8076e-01,  3.9736e-01],\n",
      "        [ 9.9925e-01,  8.3516e-01, -2.7495e-01, -2.1591e-01,  4.7021e-01,\n",
      "          1.0323e+00,  1.9110e-01,  2.6198e-01, -5.9005e-01,  4.4241e-01],\n",
      "        [ 7.1029e-01,  8.9162e-01, -1.0076e+00, -3.7986e-02,  8.3207e-01,\n",
      "          8.6252e-01,  5.0662e-01, -1.1573e-01, -4.6227e-01,  2.5490e-01],\n",
      "        [ 3.7217e-01,  5.5084e-01, -4.3392e-01,  4.7566e-01,  9.2192e-01,\n",
      "          1.5702e+00,  4.9245e-01,  6.5572e-01,  8.1946e-01, -6.5815e-02],\n",
      "        [ 7.5925e-01, -3.1939e-01, -6.0153e-01,  4.4238e-01,  7.7796e-01,\n",
      "          1.0854e+00, -3.1249e-01,  8.0457e-01, -1.9682e-01, -9.1960e-02],\n",
      "        [ 5.7327e-01, -1.8044e-01, -1.3180e+00, -2.0481e-01,  1.0887e+00,\n",
      "          1.1633e+00, -4.8588e-01,  5.5490e-01, -3.9241e-01,  2.9666e-01],\n",
      "        [ 8.0061e-01,  6.1077e-01, -5.5921e-01, -1.3903e-01,  1.3326e+00,\n",
      "          1.5124e+00, -1.6757e-01,  5.0191e-01,  9.4793e-01, -1.2887e-01],\n",
      "        [ 7.7630e-01,  7.5969e-01, -4.3380e-01, -3.7913e-01,  5.8399e-01,\n",
      "          1.4411e+00, -1.6744e-01,  1.0210e-01,  7.8379e-01,  4.3194e-01],\n",
      "        [ 3.6934e-01,  4.2684e-01, -1.0283e+00,  2.1684e-01,  6.3544e-02,\n",
      "          1.0961e+00,  1.6317e-01, -1.3146e-01,  2.9360e-01, -5.0795e-01],\n",
      "        [ 4.0199e-01,  2.7382e-01, -1.3998e+00,  4.4136e-01,  8.9129e-02,\n",
      "          1.2420e+00, -2.7047e-01,  2.2951e-01,  2.0947e-01, -3.9551e-01],\n",
      "        [ 3.6419e-01,  2.2967e-01, -1.1392e+00, -3.0085e-01,  8.8301e-01,\n",
      "          1.0697e+00, -5.8020e-01,  5.3763e-01, -1.5869e-01,  2.4537e-01],\n",
      "        [ 3.6473e-01,  3.2479e-01, -7.1554e-01, -3.6349e-01,  9.2823e-01,\n",
      "          1.2718e+00, -5.9886e-01, -2.2884e-01,  5.7135e-02,  6.0586e-01],\n",
      "        [ 6.8861e-01, -6.1142e-01, -1.0550e-02, -2.8378e-01,  7.9965e-01,\n",
      "          1.2918e+00, -2.1015e-01,  1.1364e+00, -2.1312e-01, -6.7258e-01],\n",
      "        [ 8.3360e-01, -5.1424e-02, -7.3184e-01,  2.1574e-01,  1.0043e+00,\n",
      "          1.4938e+00, -3.4437e-01,  8.1056e-01, -4.6243e-01, -1.2414e-01],\n",
      "        [ 5.9021e-01, -3.7632e-01, -1.0099e+00, -7.5739e-01,  1.0650e+00,\n",
      "          7.4924e-01, -1.9421e-01,  4.1824e-01,  2.1778e-01,  3.4177e-01],\n",
      "        [ 2.9652e-01,  4.3237e-02,  6.3507e-01, -1.1699e-02,  6.9194e-01,\n",
      "          1.2577e+00, -4.1490e-01,  1.2239e+00,  3.5650e-01, -4.4270e-01],\n",
      "        [-1.6376e-01,  1.2814e-01, -3.4792e-01,  2.4960e-01,  1.1949e+00,\n",
      "          1.0684e+00, -5.2959e-01,  2.9431e-01,  7.7270e-02, -6.7050e-02],\n",
      "        [ 1.4206e-01, -7.7358e-02, -5.9471e-01,  3.8320e-01,  7.2573e-01,\n",
      "          1.2878e+00, -4.5597e-01, -1.6696e-01, -2.4302e-01,  7.7075e-01],\n",
      "        [ 5.6618e-01, -2.1772e-01,  7.0629e-01,  1.1430e-01,  8.4795e-01,\n",
      "          1.1262e+00, -2.4801e-01,  1.3485e+00, -2.2918e-01, -3.1820e-01],\n",
      "        [ 7.5527e-01, -8.1899e-02, -2.4929e-01,  3.0117e-01,  1.5016e+00,\n",
      "          1.0933e+00, -3.4436e-02,  3.5461e-01, -4.4636e-01, -2.2144e-01],\n",
      "        [ 3.5473e-01, -1.7160e-01, -7.2639e-01, -1.4831e-01,  1.6389e+00,\n",
      "          6.1284e-01, -1.6103e-01,  1.6789e-01, -3.5929e-01,  1.4187e-01],\n",
      "        [ 8.5006e-01,  6.1383e-01, -7.0902e-01,  1.9208e-01,  1.0400e+00,\n",
      "          1.2966e+00,  1.9720e-02,  2.0917e-01,  2.6921e-01, -4.2704e-01],\n",
      "        [ 7.7509e-01,  5.6190e-01, -9.2642e-01,  3.5534e-02,  1.1796e+00,\n",
      "          1.3369e+00,  4.8935e-01,  2.3335e-01,  3.2248e-01, -8.6867e-02],\n",
      "        [ 1.3503e-01,  3.5677e-01, -5.3660e-01, -7.3530e-05,  9.2145e-01,\n",
      "          1.1254e+00, -3.9832e-01, -3.4343e-02, -1.0326e-01,  5.1396e-01],\n",
      "        [ 2.4198e-01,  1.8012e-01, -9.3528e-02,  2.7761e-01,  1.3435e+00,\n",
      "          1.0446e+00,  4.5495e-01,  6.5702e-01, -4.7996e-02, -7.0275e-01],\n",
      "        [-2.3615e-01,  2.7493e-01, -4.7956e-01,  2.1444e-01,  5.6663e-01,\n",
      "          1.1276e+00, -5.4871e-01, -2.2582e-01,  1.5224e-01,  7.9372e-01],\n",
      "        [-6.8086e-02,  2.7401e-01, -3.1115e-01,  3.9590e-01,  1.3141e+00,\n",
      "          1.5097e+00, -6.2925e-01,  2.0513e-01,  3.0713e-01,  4.6349e-01],\n",
      "        [ 4.2330e-01,  3.1403e-01, -1.2267e+00, -4.3522e-01,  9.0433e-01,\n",
      "          9.8429e-01, -1.6836e-01, -3.8651e-02,  5.7300e-02,  8.2617e-01],\n",
      "        [-2.9143e-02,  2.2263e-01, -8.8779e-01, -7.7067e-01,  8.1626e-01,\n",
      "          6.4208e-01, -2.3336e-01,  2.7077e-01,  3.5529e-01,  8.3717e-01],\n",
      "        [ 7.2485e-01, -2.3617e-01, -3.1821e-01,  5.2664e-02,  1.6077e+00,\n",
      "          9.4690e-01,  5.6812e-01,  4.3117e-01, -2.9926e-01, -3.8006e-01]],\n",
      "       grad_fn=<AddBackward0>)\n",
      "tensor([[0., 0., 0.,  ..., 0., 0., 0.],\n",
      "        [0., 0., 0.,  ..., 0., 0., 0.],\n",
      "        [0., 0., 0.,  ..., 0., 0., 0.],\n",
      "        ...,\n",
      "        [0., 0., 0.,  ..., 0., 0., 0.],\n",
      "        [0., 0., 0.,  ..., 0., 0., 0.],\n",
      "        [0., 0., 0.,  ..., 0., 0., 0.]])\n"
     ]
    },
    {
     "data": {
      "image/png": "[encoded data removed]",
      "text/plain": [
       "<Figure size 640x480 with 3 Axes>"
      ]
     },
     "metadata": {
      "image/png": {
       "height": 418,
       "width": 556
      }
     },
     "output_type": "display_data"
    },
    {
     "name": "stdout",
     "output_type": "stream",
     "text": [
      "[[57, 64, 73, 0], [56, 59, 64, 71], [54, 61, 66, 69], [56, 59, 64, 71], [57, 64, 73, 0], [56, 59, 64, 76], [57, 64, 73, 0], [49, 64, 69, 73], [52, 64, 68, 71], [52, 62, 68, 71], [45, 61, 64, 69], [53, 61, 68, 73], [54, 61, 66, 69], [47, 62, 68, 71], [49, 61, 65, 68], [49, 59, 65, 68], [42, 57, 61, 66], [54, 61, 66, 69], [56, 59, 66, 71], [54, 59, 66, 71], [56, 59, 64, 71], [57, 59, 64, 71], [59, 63, 66, 0], [47, 57, 63, 66], [49, 56, 61, 64], [54, 61, 69, 0], [54, 62, 66, 69], [56, 61, 64, 71], [56, 59, 64, 71], [57, 64, 73, 0], [57, 64, 69, 73], [62, 66, 69, 0], [59, 62, 66, 71], [53, 61, 68, 73], [54, 61, 66, 69], [47, 62, 66, 68], [49, 61, 65, 68], [50, 61, 66, 0], [50, 54, 59, 66], [49, 53, 61, 68], [46, 54, 61, 66], [46, 54, 62, 66], [46, 61, 64, 66], [47, 61, 64, 66], [49, 59, 62, 66], [49, 58, 61, 66], [50, 59, 66, 0], [50, 59, 61, 66], [47, 59, 62, 66], [47, 59, 62, 65], [54, 58, 61, 66]] [[57, 64, 66, 73], [56, 59, 64, 71], [54, 61, 66, 69], [56, 59, 64, 71], [57, 64, 66, 73], [56, 59, 64, 76], [57, 64, 66, 73], [49, 61, 64, 73], [52, 64, 68, 71], [52, 62, 68, 71], [45, 61, 64, 69], [53, 61, 68, 73], [54, 61, 66, 69], [47, 62, 68, 71], [49, 61, 65, 68], [49, 59, 65, 68], [42, 57, 61, 66], [54, 61, 66, 69], [56, 59, 66, 71], [54, 59, 66, 71], [56, 59, 64, 71], [57, 59, 64, 71], [59, 63, 66, 83], [47, 57, 63, 66], [49, 56, 61, 64], [42, 54, 61, 69], [54, 62, 66, 69], [56, 61, 64, 71], [56, 59, 64, 71], [57, 64, 66, 73], [45, 57, 64, 69], [54, 62, 66, 69], [59, 62, 66, 71], [53, 61, 68, 73], [54, 61, 66, 69], [47, 56, 62, 68], [49, 61, 65, 68], [50, 61, 62, 66], [50, 54, 59, 66], [49, 53, 61, 68], [42, 54, 61, 66], [54, 62, 66, 71], [57, 61, 64, 66], [47, 61, 64, 66], [59, 62, 66, 71], [49, 58, 61, 66], [50, 59, 66, 71], [50, 59, 61, 66], [47, 59, 62, 66], [47, 56, 59, 62], [54, 58, 61, 66]]\n",
      "[57, 64, 73, 0]\n",
      "[57, 64, 73, 0]\n",
      "[57, 64, 66, 73]\n",
      "[56, 59, 64, 71]\n",
      "[56, 59, 64, 71]\n",
      "[56, 59, 64, 71]\n",
      "[54, 61, 66, 69]\n",
      "[54, 61, 66, 69]\n",
      "[54, 61, 66, 69]\n",
      "[56, 59, 64, 71]\n",
      "[56, 59, 64, 71]\n",
      "[56, 59, 64, 71]\n",
      "[57, 64, 73, 0]\n",
      "[57, 64, 73, 0]\n",
      "[57, 64, 66, 73]\n",
      "[56, 59, 64, 76]\n",
      "[56, 59, 64, 76]\n",
      "[56, 59, 64, 76]\n",
      "[57, 64, 73, 0]\n",
      "[57, 64, 73, 0]\n",
      "[57, 64, 66, 73]\n",
      "[49, 64, 69, 73]\n",
      "[49, 64, 69, 73]\n",
      "[49, 61, 64, 73]\n",
      "[52, 64, 68, 71]\n",
      "[52, 64, 68, 71]\n",
      "[52, 64, 68, 71]\n",
      "[52, 62, 68, 71]\n",
      "[52, 62, 68, 71]\n",
      "[52, 62, 68, 71]\n",
      "[45, 61, 64, 69]\n",
      "[45, 61, 64, 69]\n",
      "[45, 61, 64, 69]\n",
      "[53, 61, 68, 73]\n",
      "[53, 61, 68, 73]\n",
      "[53, 61, 68, 73]\n",
      "[54, 61, 66, 69]\n",
      "[54, 61, 66, 69]\n",
      "[54, 61, 66, 69]\n",
      "[47, 62, 68, 71]\n",
      "[47, 62, 68, 71]\n",
      "[47, 62, 68, 71]\n",
      "[49, 61, 65, 68]\n",
      "[49, 61, 65, 68]\n",
      "[49, 61, 65, 68]\n",
      "[49, 59, 65, 68]\n",
      "[49, 59, 65, 68]\n",
      "[49, 59, 65, 68]\n",
      "[42, 57, 61, 66]\n",
      "[42, 57, 61, 66]\n",
      "[42, 57, 61, 66]\n",
      "[54, 61, 66, 69]\n",
      "[54, 61, 66, 69]\n",
      "[54, 61, 66, 69]\n",
      "[56, 59, 66, 71]\n",
      "[56, 59, 66, 71]\n",
      "[56, 59, 66, 71]\n",
      "[54, 59, 66, 71]\n",
      "[54, 59, 66, 71]\n",
      "[54, 59, 66, 71]\n",
      "[56, 59, 64, 71]\n",
      "[56, 59, 64, 71]\n",
      "[56, 59, 64, 71]\n",
      "[57, 59, 64, 71]\n",
      "[57, 59, 64, 71]\n",
      "[57, 59, 64, 71]\n",
      "[59, 63, 66, 0]\n",
      "[59, 63, 66, 0]\n",
      "[59, 63, 66, 83]\n"
     ]
    },
    {
     "ename": "KeyboardInterrupt",
     "evalue": "",
     "output_type": "error",
     "traceback": [
      "\u001b[0;31m---------------------------------------------------------------------------\u001b[0m",
      "\u001b[0;31mKeyboardInterrupt\u001b[0m                         Traceback (most recent call last)",
      "Cell \u001b[0;32mIn[9], line 36\u001b[0m\n\u001b[1;32m     34\u001b[0m \u001b[39mprint\u001b[39m(ts[i])\n\u001b[1;32m     35\u001b[0m play_midi_chord(ts[i])\n\u001b[0;32m---> 36\u001b[0m play_midi_chord(cs[i])\n",
      "Cell \u001b[0;32mIn[4], line 8\u001b[0m, in \u001b[0;36mplay_midi_chord\u001b[0;34m(chordList)\u001b[0m\n\u001b[1;32m      6\u001b[0m s\u001b[39m.\u001b[39mappend(c)\n\u001b[1;32m      7\u001b[0m sp \u001b[39m=\u001b[39m music21\u001b[39m.\u001b[39mmidi\u001b[39m.\u001b[39mrealtime\u001b[39m.\u001b[39mStreamPlayer(s)\n\u001b[0;32m----> 8\u001b[0m sp\u001b[39m.\u001b[39;49mplay()\n",
      "File \u001b[0;32m/Library/Frameworks/Python.framework/Versions/3.9/lib/python3.9/site-packages/music21/midi/realtime.py:118\u001b[0m, in \u001b[0;36mStreamPlayer.play\u001b[0;34m(self, busyFunction, busyArgs, endFunction, endArgs, busyWaitMilliseconds, playForMilliseconds, blocked)\u001b[0m\n\u001b[1;32m    105\u001b[0m \u001b[39m'''\u001b[39;00m\n\u001b[1;32m    106\u001b[0m \u001b[39mbusyFunction is a function that is called with busyArgs when the music is busy every\u001b[39;00m\n\u001b[1;32m    107\u001b[0m \u001b[39mbusyWaitMilliseconds.\u001b[39;00m\n\u001b[0;32m   (...)\u001b[0m\n\u001b[1;32m    115\u001b[0m \u001b[39myou to completely control whether to stop it. Ignore every other arguments\u001b[39;00m\n\u001b[1;32m    116\u001b[0m \u001b[39m'''\u001b[39;00m\n\u001b[1;32m    117\u001b[0m streamStringIOFile \u001b[39m=\u001b[39m \u001b[39mself\u001b[39m\u001b[39m.\u001b[39mgetStringOrBytesIOFile()\n\u001b[0;32m--> 118\u001b[0m \u001b[39mself\u001b[39;49m\u001b[39m.\u001b[39;49mplayStringIOFile(streamStringIOFile,\n\u001b[1;32m    119\u001b[0m                       busyFunction\u001b[39m=\u001b[39;49mbusyFunction,\n\u001b[1;32m    120\u001b[0m                       busyArgs\u001b[39m=\u001b[39;49mbusyArgs,\n\u001b[1;32m    121\u001b[0m                       endFunction\u001b[39m=\u001b[39;49mendFunction,\n\u001b[1;32m    122\u001b[0m                       endArgs\u001b[39m=\u001b[39;49mendArgs,\n\u001b[1;32m    123\u001b[0m                       busyWaitMilliseconds\u001b[39m=\u001b[39;49mbusyWaitMilliseconds,\n\u001b[1;32m    124\u001b[0m                       playForMilliseconds\u001b[39m=\u001b[39;49mplayForMilliseconds,\n\u001b[1;32m    125\u001b[0m                       blocked\u001b[39m=\u001b[39;49mblocked)\n",
      "File \u001b[0;32m/Library/Frameworks/Python.framework/Versions/3.9/lib/python3.9/site-packages/music21/midi/realtime.py:165\u001b[0m, in \u001b[0;36mStreamPlayer.playStringIOFile\u001b[0;34m(self, stringIOFile, busyFunction, busyArgs, endFunction, endArgs, busyWaitMilliseconds, playForMilliseconds, blocked)\u001b[0m\n\u001b[1;32m    163\u001b[0m         \u001b[39mself\u001b[39m\u001b[39m.\u001b[39mpygame\u001b[39m.\u001b[39mmixer\u001b[39m.\u001b[39mmusic\u001b[39m.\u001b[39mstop()\n\u001b[1;32m    164\u001b[0m         \u001b[39mbreak\u001b[39;00m\n\u001b[0;32m--> 165\u001b[0m     pygameClock\u001b[39m.\u001b[39;49mtick(framerate)\n\u001b[1;32m    167\u001b[0m \u001b[39mif\u001b[39;00m endFunction \u001b[39mis\u001b[39;00m \u001b[39mnot\u001b[39;00m \u001b[39mNone\u001b[39;00m:\n\u001b[1;32m    168\u001b[0m     endFunction(endArgs)\n",
      "\u001b[0;31mKeyboardInterrupt\u001b[0m: "
     ]
    }
   ],
   "source": [
    "bach = music21.corpus.parse('bach/bwv66.6')\n",
    "sample_targets = torch.tensor([])\n",
    "sample_labels = torch.tensor([])\n",
    "\n",
    "\n",
    "for chord in bach.chordify().recurse().getElementsByClass(['Chord', 'Measure']):\n",
    "        if 'Chord' in chord.classes:\n",
    "            chord_zeroes = torch.zeros(128,dtype=torch.float)\n",
    "            midis = np.array([p.midi for p in chord.pitches])\n",
    "            chord_zeroes[midis] = 1.\n",
    "            midis.resize(10)\n",
    "            dense = torch.tensor(midis, dtype=torch.float)\n",
    "            sample_targets = torch.cat([sample_targets, torch.unsqueeze(chord_zeroes, dim=0)], dim=0)\n",
    "            sample_labels = torch.cat([sample_labels, torch.unsqueeze(dense, dim=0)], dim=0)\n",
    "\n",
    "coords = model.encoder(sample_targets)\n",
    "print(coords)\n",
    "sample_outputs = model.decoder(coords)\n",
    "x_hat = getTopKAsMultiHot(sample_outputs, 4)# + outs\n",
    "print(x_hat)\n",
    "fig, axs = plt.subplots(3, 1)\n",
    "columns = torch.squeeze(x_hat) # torch.cat([columns, torch.unsqueeze(x_hat, dim=0)], dim=0)\n",
    "axs[0].imshow(sample_outputs.T.detach().numpy(), cmap='gray', aspect='auto', interpolation='nearest')\n",
    "axs[1].imshow(x_hat.T.detach().numpy(), cmap='gray', aspect='auto', interpolation='nearest')\n",
    "axs[2].imshow(sample_targets.T.detach().numpy(), cmap='gray', aspect='auto', interpolation='nearest')\n",
    "\n",
    "#plt.imshow(columns, extent=[*r0, *r1])\n",
    "#columns = torch.squeeze(columns)\n",
    "plt.show() #.imshow(sample_outputs.T.detach().numpy(), cmap='gray', aspect='auto', interpolation='nearest')\n",
    "ts = tensor2midi(sample_targets).tolist()\n",
    "cs = tensor2midi(columns).tolist()\n",
    "print(ts, cs)\n",
    "for i in range(len(x_hat)):\n",
    "    print(ts[i])\n",
    "    play_midi_chord(ts[i])\n",
    "    play_midi_chord(cs[i])"
   ]
  },
  {
   "cell_type": "code",
   "execution_count": 3,
   "metadata": {},
   "outputs": [
    {
     "ename": "FileNotFoundError",
     "evalue": "[Errno 2] No such file or directory: '/Users/hansen/dev/torchtuts/outputs/data/0b92ebe2-e299-11ed-9760-acde48001122/losses.tsv'",
     "output_type": "error",
     "traceback": [
      "\u001b[0;31m---------------------------------------------------------------------------\u001b[0m",
      "\u001b[0;31mFileNotFoundError\u001b[0m                         Traceback (most recent call last)",
      "Cell \u001b[0;32mIn[3], line 59\u001b[0m\n\u001b[1;32m     55\u001b[0m         img_glob \u001b[39m=\u001b[39m os\u001b[39m.\u001b[39mpath\u001b[39m.\u001b[39mjoin(images_dir, \u001b[39m'\u001b[39m\u001b[39m*.png\u001b[39m\u001b[39m'\u001b[39m)\n\u001b[1;32m     56\u001b[0m     os\u001b[39m.\u001b[39msystem(\u001b[39mf\u001b[39m\u001b[39m\"\u001b[39m\u001b[39mffmpeg -framerate 20 -pattern_type glob -i \u001b[39m\u001b[39m'\u001b[39m\u001b[39m{\u001b[39;00mimg_glob\u001b[39m}\u001b[39;00m\u001b[39m'\u001b[39m\u001b[39m -c:v libx264 -pix_fmt yuv420p \u001b[39m\u001b[39m{\u001b[39;00mvid_filename\u001b[39m}\u001b[39;00m\u001b[39m\"\u001b[39m)\n\u001b[0;32m---> 59\u001b[0m plot_all_training_data(\u001b[39m\"\u001b[39;49m\u001b[39m0b92ebe2-e299-11ed-9760-acde48001122\u001b[39;49m\u001b[39m\"\u001b[39;49m, testset)\n",
      "Cell \u001b[0;32mIn[3], line 17\u001b[0m, in \u001b[0;36mplot_all_training_data\u001b[0;34m(run_id, testset)\u001b[0m\n\u001b[1;32m     14\u001b[0m all_bce \u001b[39m=\u001b[39m []\n\u001b[1;32m     15\u001b[0m all_kl \u001b[39m=\u001b[39m []\n\u001b[0;32m---> 17\u001b[0m \u001b[39mwith\u001b[39;00m \u001b[39mopen\u001b[39;49m(losses_file, \u001b[39m\"\u001b[39;49m\u001b[39mr\u001b[39;49m\u001b[39m\"\u001b[39;49m) \u001b[39mas\u001b[39;00m file:\n\u001b[1;32m     18\u001b[0m     \u001b[39mfor\u001b[39;00m line \u001b[39min\u001b[39;00m file:\n\u001b[1;32m     19\u001b[0m         epoch, bce_loss, kl_loss \u001b[39m=\u001b[39m line\u001b[39m.\u001b[39msplit(\u001b[39m'\u001b[39m\u001b[39m\\t\u001b[39;00m\u001b[39m'\u001b[39m)\n",
      "File \u001b[0;32m/Library/Frameworks/Python.framework/Versions/3.9/lib/python3.9/site-packages/IPython/core/interactiveshell.py:282\u001b[0m, in \u001b[0;36m_modified_open\u001b[0;34m(file, *args, **kwargs)\u001b[0m\n\u001b[1;32m    275\u001b[0m \u001b[39mif\u001b[39;00m file \u001b[39min\u001b[39;00m {\u001b[39m0\u001b[39m, \u001b[39m1\u001b[39m, \u001b[39m2\u001b[39m}:\n\u001b[1;32m    276\u001b[0m     \u001b[39mraise\u001b[39;00m \u001b[39mValueError\u001b[39;00m(\n\u001b[1;32m    277\u001b[0m         \u001b[39mf\u001b[39m\u001b[39m\"\u001b[39m\u001b[39mIPython won\u001b[39m\u001b[39m'\u001b[39m\u001b[39mt let you open fd=\u001b[39m\u001b[39m{\u001b[39;00mfile\u001b[39m}\u001b[39;00m\u001b[39m by default \u001b[39m\u001b[39m\"\u001b[39m\n\u001b[1;32m    278\u001b[0m         \u001b[39m\"\u001b[39m\u001b[39mas it is likely to crash IPython. If you know what you are doing, \u001b[39m\u001b[39m\"\u001b[39m\n\u001b[1;32m    279\u001b[0m         \u001b[39m\"\u001b[39m\u001b[39myou can use builtins\u001b[39m\u001b[39m'\u001b[39m\u001b[39m open.\u001b[39m\u001b[39m\"\u001b[39m\n\u001b[1;32m    280\u001b[0m     )\n\u001b[0;32m--> 282\u001b[0m \u001b[39mreturn\u001b[39;00m io_open(file, \u001b[39m*\u001b[39;49margs, \u001b[39m*\u001b[39;49m\u001b[39m*\u001b[39;49mkwargs)\n",
      "\u001b[0;31mFileNotFoundError\u001b[0m: [Errno 2] No such file or directory: '/Users/hansen/dev/torchtuts/outputs/data/0b92ebe2-e299-11ed-9760-acde48001122/losses.tsv'"
     ]
    }
   ],
   "source": [
    "import json\n",
    "def plot_all_training_data(run_id, testset):\n",
    "    labels = [json.dumps(ints, separators=(',', ':')) for ints in testset.uniques.tolist()]\n",
    "    colors = torch.mean(testset.uniques.to(torch.float),1)\n",
    "    run_dir = os.path.join(os.getcwd() , \"outputs\",\"data\", run_id)\n",
    "    config_file = os.path.join(run_dir, \"config.json\")\n",
    "    losses_file = os.path.join(run_dir, \"losses.tsv\")\n",
    "    embed_dir = os.path.join(run_dir, \"embeddings\")\n",
    "    recons_dir = os.path.join(run_dir, \"reconstructions\")\n",
    "    images_dir = os.path.join(run_dir, \"images\")\n",
    "    os.makedirs(images_dir, exist_ok=True)\n",
    "    #print(epochs)\n",
    "    all_epochs = []\n",
    "    all_bce = []\n",
    "    all_kl = []\n",
    "\n",
    "    with open(losses_file, \"r\") as file:\n",
    "        for line in file:\n",
    "            epoch, bce_loss, kl_loss = line.split('\\t')\n",
    "            all_epochs.append(int(epoch))\n",
    "            all_bce.append(float(bce_loss))\n",
    "            all_kl.append(float(kl_loss))\n",
    "    with open(config_file, \"r\") as f :\n",
    "        config = json.load(f)\n",
    "    \n",
    "    for i in range(len(all_epochs)):\n",
    "        epoch = all_epochs[i]\n",
    "        bce_loss = all_bce[i]\n",
    "        kl_loss = all_kl[i]\n",
    "        print(epoch, bce_loss, kl_loss)\n",
    "        embed_file = os.path.join(embed_dir, f\"{int(epoch):06}.pt\")\n",
    "        recons_file = os.path.join(recons_dir, f\"{int(epoch):06}.pt\")\n",
    "        embeddings = torch.load(embed_file, map_location='cpu')\n",
    "        reconstructions = torch.load(recons_file, map_location='cpu')\n",
    "        print(f\"loaded {len(embeddings)} from {embed_file} of shape {embeddings.shape}\")\n",
    "        img_filename = os.path.join(images_dir, f\"{int(epoch):06}.png\")\n",
    "        sums = torch.tensor(all_bce) + torch.tensor(all_kl)\n",
    "        #plot_details()\n",
    "        plot_details(\n",
    "            testset[:], \n",
    "            reconstructions,\n",
    "            embeddings, \n",
    "            colors, \n",
    "            epoch, \n",
    "            i, \n",
    "            losses=[bce_loss, kl_loss],\n",
    "            filename=img_filename, \n",
    "            all_losses=torch.stack([torch.tensor(all_bce), torch.tensor(all_kl), sums],-1),\n",
    "            pitchwise_weights=(1/testset.get_pitchwise_freq()),\n",
    "            chordwise_weights=(1/testset.get_chordwise_freq()),\n",
    "            **config\n",
    "        )\n",
    "        #plot_interleaved(testset[:], reconstructions,embeddings, colors, epoch, losses=[bce_loss, kl_loss],filename=img_filename, all_losses=torch.stack([torch.tensor(all_bce), torch.tensor(all_kl), sums],-1))\n",
    "        vid_filename = os.path.join(images_dir, f\"{int(epoch):06}.mp4\")\n",
    "        img_glob = os.path.join(images_dir, '*.png')\n",
    "    os.system(f\"ffmpeg -framerate 20 -pattern_type glob -i '{img_glob}' -c:v libx264 -pix_fmt yuv420p {vid_filename}\")\n",
    "\n",
    "\n",
    "plot_all_training_data(\"0b92ebe2-e299-11ed-9760-acde48001122\", testset)"
   ]
  },
  {
   "cell_type": "code",
   "execution_count": 4,
   "metadata": {},
   "outputs": [
    {
     "name": "stdout",
     "output_type": "stream",
     "text": [
      "(tensor([    0,     1,    10,  ..., 62322, 62330, 62340]), tensor([0, 0, 0,  ..., 0, 0, 0]))\n"
     ]
    },
    {
     "name": "stderr",
     "output_type": "stream",
     "text": [
      "/Library/Frameworks/Python.framework/Versions/3.9/lib/python3.9/site-packages/numpy/core/fromnumeric.py:86: FutureWarning: The input object of type 'Tensor' is an array-like implementing one of the corresponding protocols (`__array__`, `__array_interface__` or `__array_struct__`); but not a sequence (or 0-D). In the future, this object will be coerced as if it was first converted using `np.array(obj)`. To retain the old behaviour, you have to either modify the type 'Tensor', or assign to an empty array created with `np.empty(correct_shape, dtype=object)`.\n",
      "  return ufunc.reduce(obj, axis, dtype, out, **passkwargs)\n",
      "/Library/Frameworks/Python.framework/Versions/3.9/lib/python3.9/site-packages/numpy/core/fromnumeric.py:86: VisibleDeprecationWarning: Creating an ndarray from ragged nested sequences (which is a list-or-tuple of lists-or-tuples-or ndarrays with different lengths or shapes) is deprecated. If you meant to do this, you must specify 'dtype=object' when creating the ndarray.\n",
      "  return ufunc.reduce(obj, axis, dtype, out, **passkwargs)\n"
     ]
    },
    {
     "ename": "RuntimeError",
     "evalue": "Boolean value of Tensor with more than one value is ambiguous",
     "output_type": "error",
     "traceback": [
      "\u001b[0;31m---------------------------------------------------------------------------\u001b[0m",
      "\u001b[0;31mRuntimeError\u001b[0m                              Traceback (most recent call last)",
      "Cell \u001b[0;32mIn[4], line 5\u001b[0m\n\u001b[1;32m      3\u001b[0m flat_notes \u001b[39m=\u001b[39m torch\u001b[39m.\u001b[39mnonzero(ddata\u001b[39m.\u001b[39mview(\u001b[39m-\u001b[39m\u001b[39m1\u001b[39m, \u001b[39m1\u001b[39m), as_tuple\u001b[39m=\u001b[39m\u001b[39mTrue\u001b[39;00m)\n\u001b[1;32m      4\u001b[0m \u001b[39mprint\u001b[39m(flat_notes)\n\u001b[0;32m----> 5\u001b[0m \u001b[39mprint\u001b[39m(np\u001b[39m.\u001b[39;49mmin(flat_notes), np\u001b[39m.\u001b[39mmax(flat_notes))\n\u001b[1;32m      6\u001b[0m pitchwise_freq \u001b[39m=\u001b[39m torch\u001b[39m.\u001b[39mmean(data, dim\u001b[39m=\u001b[39m\u001b[39m0\u001b[39m)\n\u001b[1;32m      7\u001b[0m chordwise_freq \u001b[39m=\u001b[39m torch\u001b[39m.\u001b[39mmm(data, pitchwise_freq\u001b[39m.\u001b[39mview([\u001b[39m128\u001b[39m,\u001b[39m1\u001b[39m])) \n",
      "File \u001b[0;32m<__array_function__ internals>:180\u001b[0m, in \u001b[0;36mamin\u001b[0;34m(*args, **kwargs)\u001b[0m\n",
      "File \u001b[0;32m/Library/Frameworks/Python.framework/Versions/3.9/lib/python3.9/site-packages/numpy/core/fromnumeric.py:2918\u001b[0m, in \u001b[0;36mamin\u001b[0;34m(a, axis, out, keepdims, initial, where)\u001b[0m\n\u001b[1;32m   2802\u001b[0m \u001b[39m@array_function_dispatch\u001b[39m(_amin_dispatcher)\n\u001b[1;32m   2803\u001b[0m \u001b[39mdef\u001b[39;00m \u001b[39mamin\u001b[39m(a, axis\u001b[39m=\u001b[39m\u001b[39mNone\u001b[39;00m, out\u001b[39m=\u001b[39m\u001b[39mNone\u001b[39;00m, keepdims\u001b[39m=\u001b[39mnp\u001b[39m.\u001b[39m_NoValue, initial\u001b[39m=\u001b[39mnp\u001b[39m.\u001b[39m_NoValue,\n\u001b[1;32m   2804\u001b[0m          where\u001b[39m=\u001b[39mnp\u001b[39m.\u001b[39m_NoValue):\n\u001b[1;32m   2805\u001b[0m     \u001b[39m\"\"\"\u001b[39;00m\n\u001b[1;32m   2806\u001b[0m \u001b[39m    Return the minimum of an array or minimum along an axis.\u001b[39;00m\n\u001b[1;32m   2807\u001b[0m \n\u001b[0;32m   (...)\u001b[0m\n\u001b[1;32m   2916\u001b[0m \u001b[39m    6\u001b[39;00m\n\u001b[1;32m   2917\u001b[0m \u001b[39m    \"\"\"\u001b[39;00m\n\u001b[0;32m-> 2918\u001b[0m     \u001b[39mreturn\u001b[39;00m _wrapreduction(a, np\u001b[39m.\u001b[39;49mminimum, \u001b[39m'\u001b[39;49m\u001b[39mmin\u001b[39;49m\u001b[39m'\u001b[39;49m, axis, \u001b[39mNone\u001b[39;49;00m, out,\n\u001b[1;32m   2919\u001b[0m                           keepdims\u001b[39m=\u001b[39;49mkeepdims, initial\u001b[39m=\u001b[39;49minitial, where\u001b[39m=\u001b[39;49mwhere)\n",
      "File \u001b[0;32m/Library/Frameworks/Python.framework/Versions/3.9/lib/python3.9/site-packages/numpy/core/fromnumeric.py:86\u001b[0m, in \u001b[0;36m_wrapreduction\u001b[0;34m(obj, ufunc, method, axis, dtype, out, **kwargs)\u001b[0m\n\u001b[1;32m     83\u001b[0m         \u001b[39melse\u001b[39;00m:\n\u001b[1;32m     84\u001b[0m             \u001b[39mreturn\u001b[39;00m reduction(axis\u001b[39m=\u001b[39maxis, out\u001b[39m=\u001b[39mout, \u001b[39m*\u001b[39m\u001b[39m*\u001b[39mpasskwargs)\n\u001b[0;32m---> 86\u001b[0m \u001b[39mreturn\u001b[39;00m ufunc\u001b[39m.\u001b[39;49mreduce(obj, axis, dtype, out, \u001b[39m*\u001b[39;49m\u001b[39m*\u001b[39;49mpasskwargs)\n",
      "\u001b[0;31mRuntimeError\u001b[0m: Boolean value of Tensor with more than one value is ambiguous"
     ]
    }
   ],
   "source": [
    "data = torch.load('all_multihot.pt')\n",
    "ddata = torch.load('all_dense.pt')\n",
    "flat_notes = torch.nonzero(ddata.view(-1, 1), as_tuple=True)\n",
    "print(flat_notes)\n",
    "print(np.min(flat_notes), np.max(flat_notes))\n",
    "pitchwise_freq = torch.mean(data, dim=0)\n",
    "chordwise_freq = torch.mm(data, pitchwise_freq.view([128,1])) \n",
    "print(torch.nonzero(1/pitchwise_freq))\n",
    "#pitchwise_freq   = testset.get_pitchwise_freq() # torch.mean(torch.squeeze(testset[:]), dim=0) #\n",
    "#chordwise_freq   = testset.get_chordwise_freq() # torch.mean(torch.squeeze(testset[:]), dim=0) #\n",
    "#chordwise_freqstar   = torch.mean(testset.get_pitchwise_freq().view(50) * data, 1) # torch.mean(torch.squeeze(testset[:]), dim=0) #\n",
    "\n",
    "print(pitchwise_freq.shape)\n",
    "#print(testset.get_chordwise_weights())\n",
    "#chordwise_weights = torch.mm(testset[:], pitchwise_weights.view([50,1])) / 50.\n",
    "#print(data.shape)\n",
    "\n",
    "print(pitchwise_freq)\n",
    "print(chordwise_freq)\n",
    "fig, axs = plt.subplots(4, 1)\n",
    "\n",
    "axs[0].bar(range(0, 128), pitchwise_freq)\n",
    "axs[1].bar(range(0, 128), 1/pitchwise_freq)\n",
    "axs[2].bar(range(0, 6235), torch.squeeze(chordwise_freq))\n",
    "axs[3].bar(range(0, 6235), torch.squeeze(1/chordwise_freq))\n",
    "#axs[4].bar(range(0, 6235), torch.squeeze(1/chordwise_freqstar))"
   ]
  },
  {
   "cell_type": "code",
   "execution_count": 4,
   "metadata": {},
   "outputs": [],
   "source": [
    "def play_midi_chord(chordList):\n",
    "    print( chordList)\n",
    "    s = music21.stream.Stream()\n",
    "    s.append(music21.tempo.MetronomeMark(number=100))\n",
    "    c = music21.chord.Chord([int(chord) for chord in chordList])\n",
    "    s.append(c)\n",
    "    sp = music21.midi.realtime.StreamPlayer(s)\n",
    "    sp.play()"
   ]
  },
  {
   "cell_type": "code",
   "execution_count": null,
   "metadata": {},
   "outputs": [],
   "source": []
  },
  {
   "cell_type": "code",
   "execution_count": 17,
   "metadata": {},
   "outputs": [],
   "source": [
    "def load_plot_widget(embedding, labels, colors):\n",
    "    # create our callback function\n",
    "    def update_point(trace, points, selector):\n",
    "        point_idx = points.point_inds[0]\n",
    "        midi_nums =  json.loads(scatter.customdata[point_idx])\n",
    "        play_midi_chord([int(num) for num in midi_nums])\n",
    "    \n",
    "    x = embedding[:, 0]\n",
    "    y = embedding[:, 1]\n",
    "    f = go.FigureWidget([go.Scatter(x=x, y=y, mode='markers', customdata=labels)])\n",
    "    f.update_layout(width=750)\n",
    "    f.update_layout(height=750)\n",
    "    scatter = f.data[0]\n",
    "    scatter.marker.color = colors\n",
    "    scatter.marker.size = [5] * len(embedding)\n",
    "    f.layout.hovermode = 'closest'\n",
    "    scatter.on_click(update_point)\n",
    "    return f"
   ]
  },
  {
   "cell_type": "code",
   "execution_count": null,
   "metadata": {},
   "outputs": [],
   "source": [
    "import uuid\n",
    "import os\n",
    "guid = str(uuid.uuid1())\n",
    "parent_dir = os.path.join(os.getcwd() , \"outputs\",\"data\", guid)\n",
    "#os.mkdir(parent_dir)\n",
    "embed_dir = os.path.join(parent_dir, \"embeddings\")\n",
    "os.makedirs(embed_dir, exist_ok=True)\n",
    "os.makedirs(embed_dir, exist_ok=True)"
   ]
  },
  {
   "cell_type": "code",
   "execution_count": null,
   "metadata": {},
   "outputs": [],
   "source": [
    "a = torch.tensor(())\n",
    "thing1 = torch.unsqueeze(testset[:], 0)\n",
    "a = torch.cat([a,thing1],0)\n",
    "print(a.shape)\n",
    "a = torch.cat([a,thing1],0)\n",
    "print(a.shape)"
   ]
  },
  {
   "cell_type": "code",
   "execution_count": null,
   "metadata": {},
   "outputs": [],
   "source": [
    "weights =  (1 / torch.sum(torch.squeeze(testset[:]), dim=0))\n",
    "print(weights.sum(), weights.mean(), weights.max(), weights.min(), weights.min()/weights.max())\n",
    "weights = (1 / 0.004 * torch.mean(torch.squeeze(testset[:]), dim=0))\n",
    "print(weights.sum(), weights.mean(), weights.max(), weights.min(), weights.min()/weights.max())\n",
    "weights = (1 - torch.mean(torch.squeeze(testset[:]), dim=0))\n",
    "print(weights.sum(), weights.mean(), weights.max(), weights.min(), weights.min()/weights.max())\n",
    "\n",
    "print(1e3)\n",
    "print(1/0.0010)\n",
    "print(1/0.7658)\n"
   ]
  },
  {
   "cell_type": "code",
   "execution_count": 19,
   "metadata": {},
   "outputs": [
    {
     "data": {
      "text/plain": [
       "<matplotlib.image.AxesImage at 0x7fd509f0ad60>"
      ]
     },
     "execution_count": 19,
     "metadata": {},
     "output_type": "execute_result"
    },
    {
     "data": {
      "image/png": "[encoded data removed]",
      "text/plain": [
       "<Figure size 640x480 with 1 Axes>"
      ]
     },
     "metadata": {
      "image/png": {
       "height": 415,
       "width": 543
      }
     },
     "output_type": "display_data"
    }
   ],
   "source": [
    "plt.imshow(torch.nn.functional.softmax(testset[:], dim=1).T, cmap='gray', aspect='auto', interpolation='nearest')"
   ]
  },
  {
   "cell_type": "code",
   "execution_count": 15,
   "metadata": {},
   "outputs": [
    {
     "ename": "TypeError",
     "evalue": "can't assign a list to a torch.IntTensor",
     "output_type": "error",
     "traceback": [
      "\u001b[0;31m---------------------------------------------------------------------------\u001b[0m",
      "\u001b[0;31mTypeError\u001b[0m                                 Traceback (most recent call last)",
      "Cell \u001b[0;32mIn[15], line 12\u001b[0m\n\u001b[1;32m     10\u001b[0m trectangle \u001b[39m=\u001b[39m torch\u001b[39m.\u001b[39mzeros([\u001b[39mlen\u001b[39m(data), max_len], dtype\u001b[39m=\u001b[39mtorch\u001b[39m.\u001b[39mint)\n\u001b[1;32m     11\u001b[0m \u001b[39mfor\u001b[39;00m i \u001b[39min\u001b[39;00m \u001b[39mrange\u001b[39m(\u001b[39mlen\u001b[39m(data)):\n\u001b[0;32m---> 12\u001b[0m     trectangle[i, \u001b[39mrange\u001b[39;49m(\u001b[39mlen\u001b[39;49m(data[i]))] \u001b[39m=\u001b[39m data[i]\n\u001b[1;32m     14\u001b[0m \u001b[39mprint\u001b[39m(trectangle)\n",
      "\u001b[0;31mTypeError\u001b[0m: can't assign a list to a torch.IntTensor"
     ]
    }
   ],
   "source": [
    "\n",
    "data = [\n",
    "    [1],\n",
    "    [1, 2],\n",
    "    [1, 2, 3]\n",
    "]\n",
    "max_len = 3\n",
    "\n",
    "# General Solution:\n",
    "rectangle = np.zeros((len(data), max_len), dtype=np.int32)\n",
    "trectangle = torch.zeros([len(data), max_len], dtype=torch.int)\n",
    "for i in range(len(data)):\n",
    "    trectangle[i, range(len(data[i]))] = data[i]\n",
    "\n",
    "print(trectangle)"
   ]
  },
  {
   "cell_type": "code",
   "execution_count": 26,
   "metadata": {},
   "outputs": [
    {
     "data": {
      "text/plain": [
       "tensor(4.2484e-18)"
      ]
     },
     "execution_count": 26,
     "metadata": {},
     "output_type": "execute_result"
    }
   ],
   "source": [
    "torch.exp(torch.tensor(-40))"
   ]
  },
  {
   "cell_type": "code",
   "execution_count": 8,
   "metadata": {},
   "outputs": [
    {
     "name": "stdout",
     "output_type": "stream",
     "text": [
      "torch.Size([223535, 128])\n",
      "torch.Size([223535, 128])\n",
      "torch.return_types.topk(\n",
      "values=tensor([[0.1497, 0.1362, 0.1102, 0.0895],\n",
      "        [0.1979, 0.1784, 0.1285, 0.0808],\n",
      "        [0.0837, 0.0574, 0.0467, 0.0452],\n",
      "        ...,\n",
      "        [0.9036, 0.6557, 0.6045, 0.4994],\n",
      "        [0.9425, 0.9253, 0.8579, 0.6973],\n",
      "        [0.8834, 0.8713, 0.7959, 0.7543]]),\n",
      "indices=tensor([[ 44, 127,  49,  40],\n",
      "        [126, 123,  32,  44],\n",
      "        [ 40, 125,  32,  31],\n",
      "        ...,\n",
      "        [  0,   1,   5,   7],\n",
      "        [ 15,   3,   0,   1],\n",
      "        [  3,  12,   1,  18]]))\n"
     ]
    }
   ],
   "source": [
    "\n",
    "import uuid\n",
    "import json\n",
    "\n",
    "ORIGINAL_DIM = 128\n",
    "LATENT_DIM = 3\n",
    "MIN_MIDI = 35\n",
    "MAX_MIDI = 90\n",
    "DATA_LENGTH = MAX_MIDI - MIN_MIDI\n",
    "INTERMEDIATE_DIMS = DATA_LENGTH*32\n",
    "LEARNING_RATE = 1e-2\n",
    "RHO  = 0.0074\n",
    "BETA = 4\n",
    "KLD_WEIGHT = 0. #\n",
    "WEIGHT_MULT = 1.# 1e3\n",
    "SPARSE_WEIGHT = 1\n",
    "RUN_UUID = str(uuid.uuid1())\n",
    "BATCH_SIZE=256\n",
    "KL_SOFTMAX_DIM=1\n",
    "\n",
    "\n",
    "'''config = {\n",
    "    'original_dim': ORIGINAL_DIM,\n",
    "    'intermediate_dim': 880,\n",
    "    'latent_dim': LATENT_DIM,\n",
    "    'data_length': DATA_LENGTH,\n",
    "    'learning_rate': LEARNING_RATE,\n",
    "    'kld_weight': KLD_WEIGHT,\n",
    "    'bce_weight': WEIGHT_MULT,\n",
    "    'sparsity_weight': SPARSE_WEIGHT,\n",
    "    'batch_size': BATCH_SIZE,\n",
    "    'class_weight_exponent': 0.125\n",
    "}'''\n",
    "\n",
    "run_id = 'f18d386e-ea7d-11ed-8bd1-acde48001122'\n",
    "with open(f\"/Users/hansen/dev/torchtuts/outputs/data/{run_id}/config.json\") as f:\n",
    "    config = json.load(f)\n",
    "model = GaussianVAE(**config).to(device)\n",
    "#model_path = f\"./outputs/sparse_ae3300.pth\"\n",
    "\n",
    "model_path = f\"/Users/hansen/dev/torchtuts/outputs/data/{run_id}/model_state/200.pth\"\n",
    "model.load_state_dict(torch.load(model_path))\n",
    "#labels = [json.dumps([int(i) for i in ints if int(i) != 0], separators=(',', ':')) for ints in testset.uniques.tolist()]\n",
    "#colors = torch.mean(testset.uniques.to(torch.float),1)\n",
    "img = testset[:]    \n",
    "print(img.shape)\n",
    "img = img.view(img.size(0), -1)\n",
    "print(img.shape)\n",
    "img.to(device)\n",
    "model.eval()\n",
    "with torch.no_grad():\n",
    "    reconstructions = model(img)\n",
    "    embeddings = model.encoder(img)\n",
    "\n",
    "print(torch.topk(reconstructions, 4))\n",
    "#load_plot_widget(embeddings, labels, colors)\n",
    "#plot_embedding_space(embeddings, colors)\n",
    "#plot_interleaved(reconstructions, img,embeddings, colors, 4900, 42.5791282654)"
   ]
  },
  {
   "cell_type": "code",
   "execution_count": 31,
   "metadata": {},
   "outputs": [
    {
     "ename": "TypeError",
     "evalue": "plot_reconstructed() missing 1 required positional argument: 'dim2'",
     "output_type": "error",
     "traceback": [
      "\u001b[0;31m---------------------------------------------------------------------------\u001b[0m",
      "\u001b[0;31mTypeError\u001b[0m                                 Traceback (most recent call last)",
      "Cell \u001b[0;32mIn[31], line 1\u001b[0m\n\u001b[0;32m----> 1\u001b[0m cols \u001b[39m=\u001b[39m plot_reconstructed(model, \u001b[39m2\u001b[39;49m, r0\u001b[39m=\u001b[39;49m(\u001b[39m-\u001b[39;49m\u001b[39m10\u001b[39;49m, \u001b[39m10\u001b[39;49m), n\u001b[39m=\u001b[39;49m\u001b[39m30\u001b[39;49m)\n\u001b[1;32m      2\u001b[0m \u001b[39mprint\u001b[39m(cols\u001b[39m.\u001b[39mshape)\n\u001b[1;32m      3\u001b[0m cols \u001b[39m=\u001b[39m cols\n",
      "\u001b[0;31mTypeError\u001b[0m: plot_reconstructed() missing 1 required positional argument: 'dim2'"
     ]
    }
   ],
   "source": [
    "cols = plot_reconstructed(model, 2, r0=(-10, 10), n=30)\n",
    "print(cols.shape)\n",
    "cols = cols"
   ]
  },
  {
   "cell_type": "code",
   "execution_count": 113,
   "metadata": {},
   "outputs": [
    {
     "name": "stdout",
     "output_type": "stream",
     "text": [
      "[52, 60, 64, 68]\n",
      "[52, 56, 60, 68]\n",
      "[52, 56, 60, 64]\n",
      "[48, 55, 56, 64]\n",
      "[48, 52, 56, 64]\n",
      "[40, 52, 60, 68]\n",
      "[37, 38, 42, 49]\n",
      "[34, 38, 42, 49]\n",
      "[34, 37, 38, 42]\n",
      "[30, 51, 54, 58]\n",
      "[26, 30, 34, 42]\n",
      "[22, 30, 34, 50]\n",
      "[22, 26, 34, 42]\n",
      "[22, 26, 30, 34]\n",
      "[18, 22, 30, 34]\n",
      "[13, 34, 37, 42]\n",
      "[13, 22, 34, 42]\n"
     ]
    }
   ],
   "source": []
  },
  {
   "cell_type": "code",
   "execution_count": 14,
   "metadata": {},
   "outputs": [
    {
     "data": {
      "text/plain": [
       "torch.Size([6235, 55])"
      ]
     },
     "execution_count": 14,
     "metadata": {},
     "output_type": "execute_result"
    }
   ],
   "source": [
    "midis = torch.topk(reconstructions, 4).indices + MIN_MIDI\n",
    "num_chords = len(midis)\n",
    "src =torch.ones([num_chords, 128])\n",
    "zeros = torch.zeros([num_chords, 128], dtype=src.dtype)\n",
    "zeros.scatter_(1, midis, src)[:, MIN_MIDI:MAX_MIDI].shape\n"
   ]
  }
 ],
 "metadata": {
  "kernelspec": {
   "display_name": "Python 3",
   "language": "python",
   "name": "python3"
  },
  "language_info": {
   "codemirror_mode": {
    "name": "ipython",
    "version": 3
   },
   "file_extension": ".py",
   "mimetype": "text/x-python",
   "name": "python",
   "nbconvert_exporter": "python",
   "pygments_lexer": "ipython3",
   "version": "3.9.7"
  },
  "orig_nbformat": 4
 },
 "nbformat": 4,
 "nbformat_minor": 2
}
